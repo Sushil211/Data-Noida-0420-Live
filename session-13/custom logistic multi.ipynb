{
 "cells": [
  {
   "cell_type": "code",
   "execution_count": 10,
   "metadata": {},
   "outputs": [],
   "source": [
    "import numpy as np\n",
    "import matplotlib.pyplot as plt\n",
    "from sklearn.datasets import make_blobs\n",
    "\n",
    "X, y = make_blobs(n_samples=100, centers=4, random_state=42)"
   ]
  },
  {
   "cell_type": "code",
   "execution_count": 24,
   "metadata": {},
   "outputs": [],
   "source": [
    "# (y == 3).astype(int)"
   ]
  },
  {
   "cell_type": "code",
   "execution_count": 4,
   "metadata": {},
   "outputs": [
    {
     "data": {
      "text/plain": [
       "((1000, 2), (1000,))"
      ]
     },
     "execution_count": 4,
     "metadata": {},
     "output_type": "execute_result"
    }
   ],
   "source": [
    "X.shape, y.shape"
   ]
  },
  {
   "cell_type": "code",
   "execution_count": 67,
   "metadata": {},
   "outputs": [
    {
     "data": {
      "text/plain": [
       "<matplotlib.collections.PathCollection at 0x1a20b5f160>"
      ]
     },
     "execution_count": 67,
     "metadata": {},
     "output_type": "execute_result"
    },
    {
     "data": {
      "image/png": "[encoded data removed]",
      "text/plain": [
       "<Figure size 432x288 with 1 Axes>"
      ]
     },
     "metadata": {
      "needs_background": "light"
     },
     "output_type": "display_data"
    }
   ],
   "source": [
    "plt.scatter(X[:, 0], X[:, 1], c=(y==3).astype(int))"
   ]
  },
  {
   "cell_type": "code",
   "execution_count": 49,
   "metadata": {},
   "outputs": [],
   "source": [
    "class CustomLosgisticReg:\n",
    "    \n",
    "    def __init__(self, lr=.01, iters=30):\n",
    "        self.lr = lr\n",
    "        self.iters = iters\n",
    "        \n",
    "    def fit(self, X, y):\n",
    "        \n",
    "        ones = np.ones([X.shape[0], 1])\n",
    "        X = np.hstack([ones, X])\n",
    "        \n",
    "        self.classes_ = np.unique(y)\n",
    "        \n",
    "        thetas = []\n",
    "        \n",
    "        for klass in self.classes_:\n",
    "        \n",
    "                theta = np.random.randn(X.shape[1], 1)\n",
    "                errors = []\n",
    "            \n",
    "                for i in range(self.iters):\n",
    "                    error = self.gradient_decent(X, (y==klass).astype(int), theta)\n",
    "                    errors.append(error)\n",
    "                \n",
    "                thetas.append(theta)\n",
    "            \n",
    "        self.thetas_ = np.hstack(thetas)\n",
    "\n",
    "            \n",
    "    def gradient_decent(self, X, y, theta):\n",
    "        delta_theta, error = self.gradient(X, y, theta)\n",
    "        theta += delta_theta\n",
    "        return error\n",
    "        \n",
    "    def gradient(self, X, y, theta):\n",
    "        ya =  y.reshape(-1, 1)\n",
    "        yh = self.hypo(X, theta)\n",
    "        \n",
    "        dneglldt = np.dot(X.T, (yh-ya)) / X.shape[0]\n",
    "        \n",
    "        delta_theta = -dneglldt * self.lr\n",
    "        \n",
    "        error = -np.mean((ya * np.log(yh)) + ((1-ya)*(np.log(1-yh))))\n",
    "        \n",
    "        return delta_theta, error\n",
    "        \n",
    "        \n",
    "    def hypo(self, X, theta):\n",
    "        g = np.dot(X, theta)\n",
    "        return 1 / (1 + np.exp(-g))\n",
    "    \n",
    "    def predict_prob(self, X):\n",
    "        ones = np.ones([X.shape[0], 1])\n",
    "        X = np.hstack([ones, X])\n",
    "        return self.hypo(X, self.thetas_)\n",
    "        \n",
    "    def predict(self, X):\n",
    "        probs = self.predict_prob(X)\n",
    "        return probs.argmax(axis=1)\n",
    "    \n",
    "    def score(self, X, y):\n",
    "        yp = self.predict(X)\n",
    "        return np.mean(yp == y)\n",
    "        \n",
    "        \n",
    "        "
   ]
  },
  {
   "cell_type": "code",
   "execution_count": 50,
   "metadata": {},
   "outputs": [],
   "source": [
    "model = CustomLosgisticReg(iters=1000)"
   ]
  },
  {
   "cell_type": "code",
   "execution_count": 51,
   "metadata": {},
   "outputs": [],
   "source": [
    "model.fit(X, y)"
   ]
  },
  {
   "cell_type": "code",
   "execution_count": 52,
   "metadata": {},
   "outputs": [
    {
     "data": {
      "text/plain": [
       "array([[-1.0073506 ,  0.4950404 , -0.36804622, -1.86705035],\n",
       "       [ 0.12721141,  1.14859802, -0.33481767, -0.21110236],\n",
       "       [ 0.19827638, -0.2751279 , -1.0402579 ,  0.11181102]])"
      ]
     },
     "execution_count": 52,
     "metadata": {},
     "output_type": "execute_result"
    }
   ],
   "source": [
    "model.thetas_"
   ]
  },
  {
   "cell_type": "code",
   "execution_count": 53,
   "metadata": {},
   "outputs": [],
   "source": [
    "from sklearn.model_selection import train_test_split"
   ]
  },
  {
   "cell_type": "code",
   "execution_count": 54,
   "metadata": {},
   "outputs": [],
   "source": [
    "X_train, X_test, y_train, y_test = train_test_split(\n",
    "...     X, y, test_size=0.33, random_state=42)"
   ]
  },
  {
   "cell_type": "code",
   "execution_count": 55,
   "metadata": {},
   "outputs": [
    {
     "data": {
      "text/plain": [
       "(100, 2)"
      ]
     },
     "execution_count": 55,
     "metadata": {},
     "output_type": "execute_result"
    }
   ],
   "source": [
    "X.shape"
   ]
  },
  {
   "cell_type": "code",
   "execution_count": 59,
   "metadata": {},
   "outputs": [],
   "source": [
    "model = CustomLosgisticReg(lr=.1, iters=1000)"
   ]
  },
  {
   "cell_type": "code",
   "execution_count": 60,
   "metadata": {},
   "outputs": [],
   "source": [
    "model.fit(X_train, y_train)"
   ]
  },
  {
   "cell_type": "code",
   "execution_count": 61,
   "metadata": {},
   "outputs": [
    {
     "data": {
      "text/plain": [
       "1.0"
      ]
     },
     "execution_count": 61,
     "metadata": {},
     "output_type": "execute_result"
    }
   ],
   "source": [
    "model.score(X_test, y_test)"
   ]
  },
  {
   "cell_type": "code",
   "execution_count": 62,
   "metadata": {},
   "outputs": [
    {
     "data": {
      "text/plain": [
       "array([[-5.45051539, -0.57494347, -0.99739693, -5.83197558],\n",
       "       [ 0.33964944,  1.92765188, -0.55338324, -0.66034941],\n",
       "       [ 0.88526572, -0.24480191, -1.49954154,  0.24018576]])"
      ]
     },
     "execution_count": 62,
     "metadata": {},
     "output_type": "execute_result"
    }
   ],
   "source": [
    "model.thetas_"
   ]
  },
  {
   "cell_type": "code",
   "execution_count": 63,
   "metadata": {},
   "outputs": [
    {
     "data": {
      "text/plain": [
       "array([[2.66529723e-02, 1.05844918e-09, 1.27654732e-02, 8.76397596e-01],\n",
       "       [4.16560643e-07, 3.42185019e-05, 9.99999507e-01, 2.24367249e-02],\n",
       "       [8.80600455e-01, 1.73993188e-04, 1.14519147e-06, 1.72274436e-01],\n",
       "       [4.37383752e-07, 1.11104209e-04, 9.99999471e-01, 1.47077858e-02],\n",
       "       [2.05671138e-01, 6.49283430e-09, 2.95290822e-04, 8.40485203e-01],\n",
       "       [4.06508284e-07, 8.98099362e-07, 9.99999508e-01, 8.14027460e-02],\n",
       "       [2.40183530e-01, 9.99748002e-01, 2.82919813e-04, 2.23376799e-04],\n",
       "       [1.31669708e-01, 9.99373803e-01, 9.69441601e-04, 2.77016617e-04],\n",
       "       [2.24902277e-01, 9.99604948e-01, 3.25402410e-04, 2.60293619e-04],\n",
       "       [8.34648033e-01, 4.87281951e-05, 2.14454774e-06, 2.38734527e-01],\n",
       "       [8.30696593e-01, 1.67384110e-04, 2.28024302e-06, 1.64681417e-01],\n",
       "       [3.22854182e-06, 5.94036962e-06, 9.99983965e-01, 5.85374332e-02],\n",
       "       [1.45906316e-06, 1.34195229e-05, 9.99995850e-01, 3.86105319e-02],\n",
       "       [2.75844657e-02, 9.97638978e-01, 1.60180828e-02, 3.42555683e-04],\n",
       "       [8.88924460e-01, 1.95197002e-03, 1.02401907e-06, 7.89709895e-02],\n",
       "       [1.29453839e-01, 4.21419163e-10, 7.31841300e-04, 9.29985140e-01],\n",
       "       [2.41782847e-01, 5.20259895e-09, 2.07151498e-04, 8.55620280e-01],\n",
       "       [2.20308654e-01, 9.99448113e-01, 3.39102802e-04, 2.93481212e-04],\n",
       "       [1.05902233e-01, 6.55006024e-10, 1.07996447e-03, 9.15598455e-01],\n",
       "       [1.33203901e-01, 9.47215888e-09, 7.16072303e-04, 8.07433666e-01],\n",
       "       [7.51677932e-01, 2.25308661e-04, 5.17680762e-06, 1.39942301e-01],\n",
       "       [1.55334206e-01, 2.96284777e-09, 5.22039014e-04, 8.69468643e-01],\n",
       "       [2.03801388e-01, 1.28135403e-09, 2.95823124e-04, 9.05848387e-01],\n",
       "       [3.44459218e-01, 9.99727125e-01, 1.19722052e-04, 2.50644957e-04],\n",
       "       [3.19766174e-01, 9.99409532e-01, 1.43318094e-04, 3.27882689e-04],\n",
       "       [9.21046678e-01, 1.56038113e-04, 5.26805230e-07, 1.89719015e-01],\n",
       "       [4.82954893e-02, 9.94835272e-01, 6.00069963e-03, 5.06042691e-04],\n",
       "       [7.47794304e-02, 1.53973196e-08, 2.13057240e-03, 7.58482679e-01],\n",
       "       [1.67499182e-01, 4.70840460e-10, 4.39587164e-04, 9.30609634e-01],\n",
       "       [1.91766600e-07, 6.71758781e-07, 9.99999861e-01, 8.00360440e-02],\n",
       "       [9.15984177e-07, 1.34392756e-06, 9.99998064e-01, 8.04177738e-02],\n",
       "       [1.42323628e-01, 9.99773605e-01, 8.41729948e-04, 1.92575312e-04],\n",
       "       [1.14937876e-06, 3.38270961e-06, 9.99997186e-01, 6.05361080e-02],\n",
       "       [9.09417272e-02, 4.26302594e-08, 1.50291985e-03, 6.90235553e-01],\n",
       "       [9.47501202e-01, 8.47423615e-03, 2.63067306e-07, 5.37363994e-02],\n",
       "       [7.71189938e-01, 1.65738660e-04, 4.30230547e-06, 1.56651788e-01],\n",
       "       [6.08004213e-01, 7.92468097e-04, 1.62557861e-05, 8.34230280e-02],\n",
       "       [8.09451534e-01, 1.00724612e-03, 2.96674778e-06, 8.97717413e-02],\n",
       "       [1.78600846e-01, 9.99930227e-01, 5.39988733e-04, 1.30043242e-04],\n",
       "       [2.07109603e-02, 9.99806402e-01, 2.67471824e-02, 1.28433674e-04],\n",
       "       [3.67089976e-02, 3.30286512e-10, 7.24872506e-03, 9.20408171e-01],\n",
       "       [7.90800519e-02, 9.99096076e-01, 2.52167344e-03, 2.88605910e-04],\n",
       "       [3.29963823e-07, 6.56978177e-06, 9.99999661e-01, 3.91920686e-02],\n",
       "       [8.02252493e-01, 3.61792067e-05, 3.09304569e-06, 2.52452435e-01],\n",
       "       [7.97612526e-01, 4.22991096e-04, 3.33634882e-06, 1.18587174e-01],\n",
       "       [9.96059578e-07, 6.06297845e-07, 9.99997750e-01, 1.06568622e-01],\n",
       "       [6.40873694e-07, 2.27509733e-07, 9.99998921e-01, 1.37563586e-01],\n",
       "       [1.72322537e-01, 4.74834866e-09, 4.25433607e-04, 8.50890524e-01],\n",
       "       [3.36706778e-01, 2.68458459e-09, 9.37138314e-05, 8.91286241e-01],\n",
       "       [5.48575216e-02, 9.98422647e-01, 4.84927172e-03, 3.32474058e-04],\n",
       "       [9.19548411e-02, 9.33076194e-01, 1.82084530e-03, 1.50924834e-03],\n",
       "       [8.83670052e-02, 9.99648650e-01, 2.07662075e-03, 2.07180963e-04],\n",
       "       [3.42719863e-01, 9.99890595e-01, 1.22502765e-04, 1.78134955e-04],\n",
       "       [2.05032125e-06, 7.19128161e-06, 9.99992574e-01, 5.09144134e-02],\n",
       "       [4.97298376e-01, 1.14569675e-08, 3.08120014e-05, 8.42394134e-01],\n",
       "       [1.95760754e-01, 2.03957950e-09, 3.23705019e-04, 8.89187757e-01],\n",
       "       [8.33614045e-01, 6.45612477e-05, 2.17846330e-06, 2.20007090e-01],\n",
       "       [5.16418212e-01, 1.24954710e-03, 3.07066636e-05, 6.72796544e-02],\n",
       "       [1.10598263e-01, 9.99980824e-01, 1.40747135e-03, 7.31886395e-05],\n",
       "       [6.44198584e-01, 2.02788963e-05, 1.20259541e-05, 2.67777070e-01],\n",
       "       [5.51429675e-07, 1.10575120e-05, 9.99999198e-01, 3.53444582e-02],\n",
       "       [6.56003212e-02, 9.98658990e-01, 3.52609966e-03, 3.23144101e-04],\n",
       "       [6.18157950e-02, 2.80046085e-09, 2.95207967e-03, 8.51247627e-01],\n",
       "       [4.78273104e-07, 1.31476433e-07, 9.99999338e-01, 1.56985460e-01],\n",
       "       [5.86374403e-01, 1.15283249e-09, 1.63561326e-05, 9.30314262e-01],\n",
       "       [4.74585155e-02, 7.65951177e-09, 4.77877819e-03, 7.89652073e-01],\n",
       "       [8.48823402e-06, 3.24267312e-06, 9.99917251e-01, 8.39646178e-02],\n",
       "       [4.77196312e-02, 8.21460487e-10, 4.61987289e-03, 8.96121977e-01],\n",
       "       [1.35479069e-01, 9.98817864e-01, 9.10702252e-04, 3.52931633e-04],\n",
       "       [9.60001891e-07, 8.82852488e-06, 9.99997946e-01, 4.19076294e-02],\n",
       "       [4.95273179e-02, 9.99402320e-01, 5.87487990e-03, 2.27445186e-04],\n",
       "       [1.39011377e-06, 7.85655918e-06, 9.99996154e-01, 4.63655773e-02],\n",
       "       [1.42755985e-01, 3.20186000e-10, 6.02618571e-04, 9.37484533e-01],\n",
       "       [5.58043703e-01, 1.46483694e-03, 2.31719206e-05, 6.53575856e-02],\n",
       "       [6.22348333e-07, 7.23291753e-06, 9.99999011e-01, 4.19567095e-02],\n",
       "       [2.18137429e-01, 2.16346248e-08, 2.63698704e-04, 7.73186837e-01],\n",
       "       [5.49488175e-07, 3.02873004e-05, 9.99999211e-01, 2.45472570e-02],\n",
       "       [4.92076525e-02, 5.53061080e-09, 4.46673160e-03, 8.10067924e-01],\n",
       "       [2.08089098e-06, 1.91767904e-04, 9.99992652e-01, 1.55942970e-02],\n",
       "       [5.89560701e-07, 2.61160761e-07, 9.99999064e-01, 1.29986891e-01],\n",
       "       [7.06940503e-02, 9.99840152e-01, 3.15182300e-03, 1.48356462e-04],\n",
       "       [5.41434276e-07, 1.26150456e-06, 9.99999204e-01, 7.57421738e-02],\n",
       "       [7.05968023e-01, 3.22345655e-03, 7.88435463e-06, 5.48717736e-02],\n",
       "       [2.85772118e-01, 1.21371881e-07, 1.46057840e-04, 6.55918884e-01],\n",
       "       [6.76194117e-01, 6.19730597e-04, 9.80513143e-06, 9.49139402e-02],\n",
       "       [5.03346738e-01, 1.18577743e-03, 3.35271872e-05, 6.79551481e-02],\n",
       "       [8.78169649e-01, 8.68025349e-03, 1.24216931e-06, 4.60012507e-02],\n",
       "       [2.71129848e-06, 6.13575104e-07, 9.99987766e-01, 1.23239011e-01],\n",
       "       [6.31310494e-01, 3.38894152e-05, 1.32895412e-05, 2.30324391e-01],\n",
       "       [2.77444572e-02, 9.99440840e-01, 1.61065675e-02, 2.00483795e-04],\n",
       "       [8.60427808e-02, 9.99704659e-01, 2.18560531e-03, 1.93258549e-04],\n",
       "       [2.69507349e-06, 3.97319220e-05, 9.99988426e-01, 2.88721417e-02],\n",
       "       [5.29615696e-01, 1.20572692e-04, 2.73750236e-05, 1.48106829e-01],\n",
       "       [7.97300521e-06, 9.56703811e-06, 9.99926434e-01, 5.71656894e-02],\n",
       "       [9.57412135e-01, 9.78634444e-05, 1.72867680e-07, 2.37271376e-01],\n",
       "       [8.79621992e-01, 1.14694134e-04, 1.15803799e-06, 1.95288757e-01],\n",
       "       [9.45416003e-01, 2.84572263e-03, 2.78686915e-07, 7.81995466e-02],\n",
       "       [1.38847918e-01, 9.99433958e-01, 8.74908245e-04, 2.69563391e-04],\n",
       "       [3.38848009e-01, 2.32909248e-08, 9.43973034e-05, 7.86058882e-01],\n",
       "       [6.37699860e-02, 9.98245943e-01, 3.69971725e-03, 3.55339608e-04]])"
      ]
     },
     "execution_count": 63,
     "metadata": {},
     "output_type": "execute_result"
    }
   ],
   "source": [
    "model.predict_prob(X)"
   ]
  },
  {
   "cell_type": "code",
   "execution_count": null,
   "metadata": {},
   "outputs": [],
   "source": []
  }
 ],
 "metadata": {
  "kernelspec": {
   "display_name": "Python 3",
   "language": "python",
   "name": "python3"
  },
  "language_info": {
   "codemirror_mode": {
    "name": "ipython",
    "version": 3
   },
   "file_extension": ".py",
   "mimetype": "text/x-python",
   "name": "python",
   "nbconvert_exporter": "python",
   "pygments_lexer": "ipython3",
   "version": "3.6.10"
  }
 },
 "nbformat": 4,
 "nbformat_minor": 4
}
