{
 "cells": [
  {
   "cell_type": "code",
   "execution_count": 1,
   "metadata": {},
   "outputs": [],
   "source": [
    "import pandas as pd\n",
    "import numpy as np\n",
    "import matplotlib.pyplot as plt\n",
    "\n",
    "\n",
    "from sklearn.datasets import make_regression\n",
    "from sklearn.linear_model import LinearRegression\n",
    "\n",
    "X, y = make_regression(n_features=5, noise=15, bias=10, random_state=1)"
   ]
  },
  {
   "cell_type": "code",
   "execution_count": null,
   "metadata": {},
   "outputs": [],
   "source": []
  },
  {
   "cell_type": "code",
   "execution_count": 2,
   "metadata": {},
   "outputs": [],
   "source": [
    "class CustomLinearReg:\n",
    "    \n",
    "    def __init__(self, lr=.01, iters=30):\n",
    "        self.lr = lr\n",
    "        self.iters = iters\n",
    "        \n",
    "    def fit(self, X, y):\n",
    "        \n",
    "        ones = np.ones([X.shape[0], 1])\n",
    "        X = np.hstack([ones, X])\n",
    "        \n",
    "        self.theta_ = np.random.randn(X.shape[1], 1)\n",
    "        \n",
    "        errors = []\n",
    "        \n",
    "        for i in range(self.iters):\n",
    "            selected = np.random.randint(0, X.shape[0], X.shape[0]//10)\n",
    "            error = self.gradient_decent(X[selected], y[selected])\n",
    "            errors.append(error)\n",
    "            \n",
    "        return errors\n",
    "            \n",
    "    def gradient_decent(self, X, y):\n",
    "        delta_theta, error = self.gradient(X, y)\n",
    "        self.theta_ += delta_theta\n",
    "        return error\n",
    "        \n",
    "    def gradient(self, X, y):\n",
    "        ya =  y.reshape(-1, 1)\n",
    "        yh = self.hypo(X)\n",
    "        \n",
    "        dmsedt = np.dot(X.T, (yh-ya)) / X.shape[0]\n",
    "        \n",
    "        delta_theta = -dmsedt * self.lr\n",
    "        error = np.sum((yh-ya) ** 2) / X.shape[0]\n",
    "        \n",
    "        return delta_theta, error\n",
    "        \n",
    "        \n",
    "    def hypo(self, X):\n",
    "        return np.dot(X, self.theta_)\n",
    "    \n",
    "    def predict(self, X):\n",
    "        ones = np.ones([X.shape[0], 1])\n",
    "        X = np.hstack([ones, X])\n",
    "        \n",
    "        result = self.hypo(X)\n",
    "        \n",
    "        return result.flatten()\n",
    "        \n",
    "        \n",
    "        "
   ]
  },
  {
   "cell_type": "code",
   "execution_count": 3,
   "metadata": {},
   "outputs": [],
   "source": [
    "model = CustomLinearReg(lr=.1, iters=100)"
   ]
  },
  {
   "cell_type": "code",
   "execution_count": 4,
   "metadata": {},
   "outputs": [],
   "source": [
    "errors = model.fit(X, y)"
   ]
  },
  {
   "cell_type": "code",
   "execution_count": 5,
   "metadata": {},
   "outputs": [
    {
     "data": {
      "text/plain": [
       "[<matplotlib.lines.Line2D at 0x1a227264e0>]"
      ]
     },
     "execution_count": 5,
     "metadata": {},
     "output_type": "execute_result"
    },
    {
     "data": {
      "image/png": "[encoded data removed]",
      "text/plain": [
       "<Figure size 432x288 with 1 Axes>"
      ]
     },
     "metadata": {
      "needs_background": "light"
     },
     "output_type": "display_data"
    }
   ],
   "source": [
    "plt.plot(errors)"
   ]
  },
  {
   "cell_type": "code",
   "execution_count": 16,
   "metadata": {},
   "outputs": [],
   "source": [
    "yh = model.predict(X)"
   ]
  },
  {
   "cell_type": "code",
   "execution_count": 18,
   "metadata": {},
   "outputs": [
    {
     "data": {
      "text/plain": [
       "array([  40.68561697,   94.17131757,  119.20127354,  -38.22950863,\n",
       "       -263.55048217,   15.68705472,   63.62515522,   53.69090877,\n",
       "        -16.54298147,   37.13859349])"
      ]
     },
     "execution_count": 18,
     "metadata": {},
     "output_type": "execute_result"
    }
   ],
   "source": [
    "yh[:10]"
   ]
  },
  {
   "cell_type": "code",
   "execution_count": 19,
   "metadata": {},
   "outputs": [
    {
     "data": {
      "text/plain": [
       "array([  43.5171099 ,   57.65141943,  123.08271761,  -43.37373343,\n",
       "       -247.57689921,    8.53711187,   41.42818339,   51.97005873,\n",
       "        -20.65603669,   57.77285488])"
      ]
     },
     "execution_count": 19,
     "metadata": {},
     "output_type": "execute_result"
    }
   ],
   "source": [
    "y[:10]"
   ]
  },
  {
   "cell_type": "code",
   "execution_count": null,
   "metadata": {},
   "outputs": [],
   "source": []
  }
 ],
 "metadata": {
  "kernelspec": {
   "display_name": "Python 3",
   "language": "python",
   "name": "python3"
  },
  "language_info": {
   "codemirror_mode": {
    "name": "ipython",
    "version": 3
   },
   "file_extension": ".py",
   "mimetype": "text/x-python",
   "name": "python",
   "nbconvert_exporter": "python",
   "pygments_lexer": "ipython3",
   "version": "3.7.2"
  }
 },
 "nbformat": 4,
 "nbformat_minor": 4
}
