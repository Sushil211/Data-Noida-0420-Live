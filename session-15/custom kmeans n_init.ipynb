{
 "cells": [
  {
   "cell_type": "code",
   "execution_count": 3,
   "metadata": {},
   "outputs": [
    {
     "data": {
      "text/plain": [
       "<matplotlib.collections.PathCollection at 0x1a1a2ad240>"
      ]
     },
     "execution_count": 3,
     "metadata": {},
     "output_type": "execute_result"
    },
    {
     "data": {
      "image/png": "[encoded data removed]",
      "text/plain": [
       "<Figure size 432x288 with 1 Axes>"
      ]
     },
     "metadata": {
      "needs_background": "light"
     },
     "output_type": "display_data"
    }
   ],
   "source": [
    "import numpy as np\n",
    "import matplotlib.pyplot as plt\n",
    "from sklearn.datasets import make_blobs\n",
    "import random\n",
    "\n",
    "from sklearn.model_selection import train_test_split\n",
    "\n",
    "X, y = make_blobs(n_samples=100, centers=6, random_state=42)\n",
    "\n",
    "\n",
    "plt.scatter(X[:, 0], X[:, 1])"
   ]
  },
  {
   "cell_type": "code",
   "execution_count": 13,
   "metadata": {},
   "outputs": [],
   "source": [
    "class Cluster:\n",
    "    \n",
    "    def __init__(self, name, center):\n",
    "        self.name = name\n",
    "        self.center = center\n",
    "        self.points = []\n",
    "    \n",
    "    def distance(self, point):\n",
    "        return np.sqrt(np.sum((self.center - point) ** 2))\n",
    "    \n",
    "    def relocate(self):\n",
    "        if len(self.points) > 0:\n",
    "            self.center = np.mean(self.points, axis=0)\n",
    "        self.points = []\n",
    "\n",
    "class KMeansCustom:\n",
    "    \n",
    "    def __init__(self, n_clusters=5, n_init=10, max_iters=300):\n",
    "        self.n_clusters = n_clusters\n",
    "        self.n_init = n_init\n",
    "        self.max_iters = max_iters\n",
    "        \n",
    "    def fit(self, X):\n",
    "        \n",
    "        timeline_infos = []\n",
    "        errs = []\n",
    "        \n",
    "        for timeline in range(self.n_init):\n",
    "\n",
    "            clusters = []\n",
    "\n",
    "            for i in range(self.n_clusters):\n",
    "                cluster = Cluster(i, random.choice(X))\n",
    "                clusters.append(cluster)\n",
    "\n",
    "            for i in range(self.max_iters):\n",
    "\n",
    "                labels = []\n",
    "\n",
    "                for point in X:\n",
    "                    distances = []\n",
    "                    for cluster in clusters:\n",
    "                        distance = cluster.distance(point)\n",
    "                        distances.append(distance)\n",
    "\n",
    "                    selected = clusters[np.argmin(distances)]\n",
    "                    labels.append(selected.name)\n",
    "                    selected.points.append(point)\n",
    "\n",
    "                for cluster in clusters:\n",
    "                    cluster.relocate()\n",
    "                \n",
    "            err = self.error(clusters, X, labels)\n",
    "            timeline_infos.append([err, clusters, labels])\n",
    "            errs.append(err)\n",
    "        \n",
    "        err, clusters, labels = timeline_infos[np.argmin(errs)]\n",
    "        self.labels_ = labels\n",
    "        self.cluster_centers_ = np.array([cluster.center for cluster in clusters])\n",
    "        \n",
    "    def error(self, clusters, X, labels):\n",
    "        \n",
    "        err = 0\n",
    "        \n",
    "        for point, label in zip(X, labels):\n",
    "            cluster = clusters[label]\n",
    "            distance = cluster.distance(point)\n",
    "            \n",
    "            err += distance\n",
    "            \n",
    "        return err\n",
    "            \n",
    "        "
   ]
  },
  {
   "cell_type": "code",
   "execution_count": 16,
   "metadata": {},
   "outputs": [
    {
     "data": {
      "image/png": "[encoded data removed]",
      "text/plain": [
       "<Figure size 432x288 with 1 Axes>"
      ]
     },
     "metadata": {
      "needs_background": "light"
     },
     "output_type": "display_data"
    }
   ],
   "source": [
    "model = KMeansCustom(n_clusters=6, max_iters=10)\n",
    "\n",
    "model.fit(X)\n",
    "\n",
    "model.cluster_centers_\n",
    "\n",
    "plt.scatter(X[:, 0], X[:, 1], c=model.labels_)\n",
    "\n",
    "for center in model.cluster_centers_:\n",
    "    plt.scatter(center[0], center[1])"
   ]
  },
  {
   "cell_type": "code",
   "execution_count": null,
   "metadata": {},
   "outputs": [],
   "source": []
  },
  {
   "cell_type": "code",
   "execution_count": null,
   "metadata": {},
   "outputs": [],
   "source": []
  }
 ],
 "metadata": {
  "kernelspec": {
   "display_name": "Python 3",
   "language": "python",
   "name": "python3"
  },
  "language_info": {
   "codemirror_mode": {
    "name": "ipython",
    "version": 3
   },
   "file_extension": ".py",
   "mimetype": "text/x-python",
   "name": "python",
   "nbconvert_exporter": "python",
   "pygments_lexer": "ipython3",
   "version": "3.6.10"
  }
 },
 "nbformat": 4,
 "nbformat_minor": 4
}
